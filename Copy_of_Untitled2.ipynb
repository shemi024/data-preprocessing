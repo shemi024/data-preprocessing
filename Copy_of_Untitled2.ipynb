{
  "nbformat": 4,
  "nbformat_minor": 0,
  "metadata": {
    "colab": {
      "name": "Copy of Untitled2.ipynb",
      "provenance": [],
      "collapsed_sections": [],
      "authorship_tag": "ABX9TyPWp6HLbIAwf28cqwKUX1P3",
      "include_colab_link": true
    },
    "kernelspec": {
      "name": "python3",
      "display_name": "Python 3"
    },
    "language_info": {
      "name": "python"
    }
  },
  "cells": [
    {
      "cell_type": "markdown",
      "metadata": {
        "id": "view-in-github",
        "colab_type": "text"
      },
      "source": [
        "<a href=\"https://colab.research.google.com/github/shemi024/data-preprocessing/blob/main/Copy_of_Untitled2.ipynb\" target=\"_parent\"><img src=\"https://colab.research.google.com/assets/colab-badge.svg\" alt=\"Open In Colab\"/></a>"
      ]
    },
    {
      "cell_type": "code",
      "execution_count": null,
      "metadata": {
        "colab": {
          "base_uri": "https://localhost:8080/"
        },
        "id": "afeaBxANQpBo",
        "outputId": "aae8ca37-212b-42ac-d22c-069b049d852e"
      },
      "outputs": [
        {
          "output_type": "stream",
          "name": "stdout",
          "text": [
            "sum is: [[ 5  7  9]\n",
            " [11 13 15]]\n",
            "substraction is: [[-3 -3 -3]\n",
            " [-3 -3 -3]]\n",
            "multiplicatin is: [[ 4 10 18]\n",
            " [28 40 54]]\n",
            "division is: [[0.25       0.4        0.5       ]\n",
            " [0.57142857 0.625      0.66666667]]\n",
            "type is <class 'numpy.ndarray'>\n",
            "respaed is: [[1 2 3]\n",
            " [4 5 6]]\n",
            "transpose of array is: [[1 4]\n",
            " [2 5]\n",
            " [3 6]]\n",
            "mean of array is: 3.5\n",
            "std is\n",
            ": 1.707825127659933\n",
            "the variable is : 2.9166666666666665\n",
            "copay is : [[1 2 3]\n",
            " [4 5 6]]\n",
            "minimun value: 1\n",
            "maximum value: 6\n",
            "max argument value is: 5\n",
            "min argument value is: 0\n",
            "mean of row is : [2.5 3.5 4.5]\n",
            "mean of column is : [2. 5.]\n",
            "dimension od array 2\n",
            "coverted in to : <built-in method tostring of numpy.ndarray object at 0x7f5f25d99620>\n",
            "from string is : [4.9e-324 9.9e-324 1.5e-323 2.0e-323 2.5e-323 3.0e-323]\n",
            "the array is filled with zero: None\n"
          ]
        },
        {
          "output_type": "stream",
          "name": "stderr",
          "text": [
            "/usr/local/lib/python3.7/dist-packages/ipykernel_launcher.py:24: DeprecationWarning: The binary mode of fromstring is deprecated, as it behaves surprisingly on unicode inputs. Use frombuffer instead\n"
          ]
        }
      ],
      "source": [
        "import numpy as np\n",
        "a=np.array(([1,2,3],[4,5,6]))\n",
        "b=np.array(([4,5,6],[7,8,9]))\n",
        "print(\"sum is:\",a+b)\n",
        "print(\"substraction is:\",a - b)\n",
        "print(\"multiplicatin is:\",a*b)\n",
        "print(\"division is:\",a/b)\n",
        "print(\"type is\",type(a))\n",
        "print(\"respaed is:\",a.reshape(2,3))\n",
        "\n",
        "print(\"transpose of array is:\",a.transpose())\n",
        "print(\"mean of array is:\",a.mean())\n",
        "print(\"std is\\n:\",a.std())\n",
        "print(\"the variable is :\",a.var())\n",
        "print(\"copay is :\",a.copy())\n",
        "print(\"minimun value:\",a.min())\n",
        "print(\"maximum value:\",a.max())\n",
        "print(\"max argument value is:\",a.argmax())\n",
        "print(\"min argument value is:\",a.argmin())\n",
        "print(\"mean of row is :\",a.mean(axis=0))\n",
        "print(\"mean of column is :\",a.mean(axis=1))\n",
        "print(\"dimension od array\",a.ndim)\n",
        "print(\"coverted in to :\",a.tostring)\n",
        "print(\"from string is :\",np.fromstring(a))\n",
        "print(\"the array is filled with zero:\",a.fill(0))\n"
      ]
    },
    {
      "cell_type": "code",
      "source": [
        "c=np.array([1,2,3])\n",
        "print(c)\n",
        "c.fill(1)\n",
        "print(c)"
      ],
      "metadata": {
        "colab": {
          "base_uri": "https://localhost:8080/"
        },
        "id": "-4amVgFSXR-z",
        "outputId": "aa7af159-9efe-4847-b79e-2ed19aae77bb"
      },
      "execution_count": null,
      "outputs": [
        {
          "output_type": "stream",
          "name": "stdout",
          "text": [
            "[1 2 3]\n",
            "[1 1 1]\n"
          ]
        }
      ]
    },
    {
      "cell_type": "code",
      "source": [
        ""
      ],
      "metadata": {
        "id": "3lmgk4lb9TYB"
      },
      "execution_count": null,
      "outputs": []
    }
  ]
}